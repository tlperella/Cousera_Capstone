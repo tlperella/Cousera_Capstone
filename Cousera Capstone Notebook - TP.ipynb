{
    "cells": [
        {
            "metadata": {
                "collapsed": true
            },
            "cell_type": "markdown",
            "source": "# Comparison of Various Beach Locations in Florida\nCoursera IBM Data Science Professional Certification - Capstone Project"
        },
        {
            "metadata": {},
            "cell_type": "markdown",
            "source": "## Table of contents\n* [Introduction: Business Problem](#introduction)\n* [Data](#data)\n* [Methodology](#methodology)\n* [Analysis](#analysis)\n* [Results and Discussion](#results)\n* [Conclusion](#conclusion)"
        },
        {
            "metadata": {},
            "cell_type": "markdown",
            "source": "## Introduction"
        },
        {
            "metadata": {},
            "cell_type": "markdown",
            "source": "Florida is known worldwide as the **\u201cSunshine State\u201d** and with its abundance of amusement parks and beaches is a vacation destination throughout the year for people from all over the world. For many families, couples or individuals, the beaches provide a huge draw to the state. Each come for different reasons and this report is designed to provide guidance on the best beach locations based on their vacation wants and needs.\n\nFour different beach areas have been identified near airports \u2013 **Tampa (Clearwater area), West Palm Beach, Jacksonville and Pensacola (the Panhandle)**. This report will help to categorize each of the areas as family-oriented, romantic, or a \u201cparty\u201d type of atmosphere, based on the number and types of restaurants, bars, parks and other types of venues nearby each of the beach areas selected.\n\nThis report\u2019s audience is anyone that is interested in visiting Florida beaches and wanting additional information to decide which region would be best based on their travel companions and plans.\n"
        },
        {
            "metadata": {},
            "cell_type": "markdown",
            "source": "## Data"
        },
        {
            "metadata": {},
            "cell_type": "markdown",
            "source": "Based on definition of our problem:\n    \n*  Beach areas will be defined based on a group of cities within certain latitude/ longitude coordinates. Cities will be limited to allow for a reasonable amount of data to be reported. \n*  Factors that will influence our decision are number and type of restaurants, bars, parks, amusement areas, etc. in each of the beach areas\n\nWe will be using the following data and data sources to perform the beach area analysis:\n    \n*  Latitudes and Longitudes of Florida Cities table from the website https://www.mapsofworld.com/usa/states/florida/lat-long.html\n*  Foursquare API to provide details on nearby venues for each of the cities in the defined beach areas.\n\n\nThe latitudes and longitudes data will be used to map out the specific cities in the beach areas selected in the introduction above. The data will be scraped from the website, cleansed for use in the analysis and categorized by beach area determined by latitude and longitude coordinates.\n\nThe Foursquare API will be used to extract the venues for each of the beach areas. The data will be categorized by venue type (i.e, family restaurant, bar, park, amusement area, etc) to determine which beach area seems to cater to which types of travelers.\n"
        },
        {
            "metadata": {},
            "cell_type": "code",
            "source": "",
            "execution_count": null,
            "outputs": []
        }
    ],
    "metadata": {
        "kernelspec": {
            "name": "python3",
            "display_name": "Python 3.7",
            "language": "python"
        },
        "language_info": {
            "name": "python",
            "version": "3.7.10",
            "mimetype": "text/x-python",
            "codemirror_mode": {
                "name": "ipython",
                "version": 3
            },
            "pygments_lexer": "ipython3",
            "nbconvert_exporter": "python",
            "file_extension": ".py"
        }
    },
    "nbformat": 4,
    "nbformat_minor": 1
}